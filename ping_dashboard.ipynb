{
 "cells": [
  {
   "cell_type": "code",
   "execution_count": 1,
   "metadata": {},
   "outputs": [],
   "source": [
    "import subprocess\n",
    "import re\n",
    "import pandas as pd\n",
    "import sqlite3\n",
    "import time"
   ]
  },
  {
   "cell_type": "code",
   "execution_count": 2,
   "metadata": {},
   "outputs": [],
   "source": [
    "import dash\n",
    "from dash.dependencies import Input, Output\n",
    "import dash_core_components as dcc\n",
    "import dash_html_components as html"
   ]
  },
  {
   "cell_type": "code",
   "execution_count": 3,
   "metadata": {},
   "outputs": [],
   "source": [
    "db_filename = \"../../../sqlite/ping_data.sqlite\""
   ]
  },
  {
   "cell_type": "code",
   "execution_count": 4,
   "metadata": {},
   "outputs": [],
   "source": [
    "def bash_command(command):\n",
    "    p = subprocess.Popen(f'{command}', shell=True, stdout=subprocess.PIPE)\n",
    "    ret = p.communicate()\n",
    "    return p.returncode,f'{ret[0].decode(\"utf-8\")}'"
   ]
  },
  {
   "cell_type": "code",
   "execution_count": 5,
   "metadata": {},
   "outputs": [],
   "source": [
    "def ping(host):\n",
    "    ping_ret = bash_command(f'ping -c 1 {host}')\n",
    "    if ping_ret[0] == 0:\n",
    "        return re.search( \"(?<=time=).*?(?= ms)\", ping_ret[1].split('\\n')[1] ).group(0)\n",
    "    else:\n",
    "        return 999"
   ]
  },
  {
   "cell_type": "code",
   "execution_count": 122,
   "metadata": {},
   "outputs": [],
   "source": [
    "try:\n",
    "    cur.execute('DROP TABLE ping_data')\n",
    "    con.commit()\n",
    "except:\n",
    "    pass"
   ]
  },
  {
   "cell_type": "code",
   "execution_count": 129,
   "metadata": {},
   "outputs": [],
   "source": [
    "rawquery=\"CREATE TABLE ping_data(date TIMESTAMP DEFAULT CURRENT_TIMESTAMP, \\\n",
    "                                'resp_time' REAL, \\\n",
    "                                'host' TEXT);\"\n",
    "cur.execute(rawquery)\n",
    "con.commit()"
   ]
  },
  {
   "cell_type": "code",
   "execution_count": 6,
   "metadata": {},
   "outputs": [],
   "source": [
    "def log_ping_data():\n",
    "    for host in hosts:\n",
    "        con = sqlite3.connect(db_filename)\n",
    "        cur = con.cursor()\n",
    "        rawquery=f\"INSERT INTO ping_data(resp_time,host) VALUES ({ping(host)},'{host}');\"\n",
    "        cur.execute(rawquery)\n",
    "        con.commit()\n",
    "        con.close()"
   ]
  },
  {
   "cell_type": "code",
   "execution_count": 7,
   "metadata": {},
   "outputs": [],
   "source": [
    "def req_ping_data(host):\n",
    "    con = sqlite3.connect(db_filename)\n",
    "    cur = con.cursor()\n",
    "    rawquery=f\"SELECT resp_time,date FROM (SELECT * FROM ping_data WHERE host = '{host}' ORDER BY date DESC LIMIT 100) ORDER BY date ASC;\"\n",
    "    cur.execute(rawquery)\n",
    "    colnames = [desc[0] for desc in cur.description]\n",
    "    df=pd.DataFrame(cur.fetchall(), columns=colnames )\n",
    "    con.close()\n",
    "    return df"
   ]
  },
  {
   "cell_type": "code",
   "execution_count": 8,
   "metadata": {},
   "outputs": [],
   "source": [
    "def cont_log_ping_data():\n",
    "    while True:\n",
    "        time.sleep(2)\n",
    "        log_ping_data()"
   ]
  },
  {
   "cell_type": "code",
   "execution_count": 9,
   "metadata": {},
   "outputs": [],
   "source": [
    "hosts = ['8.8.8.8','www.youtube.com','84.2.44.1']"
   ]
  },
  {
   "cell_type": "code",
   "execution_count": 11,
   "metadata": {},
   "outputs": [],
   "source": [
    "app = dash.Dash('Ping monitoring')\n",
    "\n",
    "app.layout = html.Div([\n",
    "    dcc.Dropdown(id='my-dropdown',\n",
    "        options=[\n",
    "            {'label': '8.8.8.8', 'value': '8.8.8.8'},\n",
    "            {'label': 'www.youtube.com', 'value': 'www.youtube.com'},\n",
    "                ],  value='8.8.8.8'),\n",
    "    dcc.Interval(id='interval-component',  \n",
    "                 interval=2*1000,  # Milliseconds  \n",
    "                 n_intervals=0),\n",
    "    dcc.Graph(id='my-graph')\n",
    "                        ], style={'width': '500'})\n",
    "\n",
    "@app.callback(Output('my-graph', 'figure'),\n",
    "              [Input('my-dropdown', 'value'),\n",
    "               Input('interval-component','n_intervals')])\n",
    "def update_graph(selected_dropdown_value,interval):\n",
    "    df = req_ping_data(selected_dropdown_value)\n",
    "    return {\n",
    "        'data': [{\n",
    "            'x': df.index,\n",
    "            'y': df.resp_time\n",
    "        }],\n",
    "        'layout': {'margin': {'l': 40, 'r': 0, 't': 20, 'b': 30}}\n",
    "    }"
   ]
  },
  {
   "cell_type": "code",
   "execution_count": 12,
   "metadata": {},
   "outputs": [],
   "source": [
    "def start_dash():\n",
    "    app.css.append_css({'external_url': 'https://codepen.io/chriddyp/pen/bWLwgP.css'})\n",
    "    app.run_server(port=8666)"
   ]
  },
  {
   "cell_type": "code",
   "execution_count": 13,
   "metadata": {},
   "outputs": [],
   "source": [
    "from multiprocessing import Process"
   ]
  },
  {
   "cell_type": "code",
   "execution_count": 14,
   "metadata": {
    "scrolled": false
   },
   "outputs": [
    {
     "name": "stdout",
     "output_type": "stream",
     "text": [
      " * Serving Flask app \"Ping monitoring\" (lazy loading)\n",
      " * Environment: production\n",
      "   WARNING: Do not use the development server in a production environment.\n",
      "   Use a production WSGI server instead.\n",
      " * Debug mode: off\n"
     ]
    },
    {
     "name": "stderr",
     "output_type": "stream",
     "text": [
      " * Running on http://127.0.0.1:8666/ (Press CTRL+C to quit)\n",
      "127.0.0.1 - - [20/Feb/2019 15:41:36] \"\u001b[37mPOST /_dash-update-component HTTP/1.1\u001b[0m\" 200 -\n",
      "127.0.0.1 - - [20/Feb/2019 15:41:37] \"\u001b[37mPOST /_dash-update-component HTTP/1.1\u001b[0m\" 200 -\n",
      "127.0.0.1 - - [20/Feb/2019 15:41:38] \"\u001b[37mPOST /_dash-update-component HTTP/1.1\u001b[0m\" 200 -\n",
      "127.0.0.1 - - [20/Feb/2019 15:41:39] \"\u001b[37mPOST /_dash-update-component HTTP/1.1\u001b[0m\" 200 -\n",
      "127.0.0.1 - - [20/Feb/2019 15:41:40] \"\u001b[37mPOST /_dash-update-component HTTP/1.1\u001b[0m\" 200 -\n",
      "127.0.0.1 - - [20/Feb/2019 15:41:41] \"\u001b[37mPOST /_dash-update-component HTTP/1.1\u001b[0m\" 200 -\n",
      "127.0.0.1 - - [20/Feb/2019 15:41:42] \"\u001b[37mPOST /_dash-update-component HTTP/1.1\u001b[0m\" 200 -\n",
      "127.0.0.1 - - [20/Feb/2019 15:41:44] \"\u001b[37mPOST /_dash-update-component HTTP/1.1\u001b[0m\" 200 -\n",
      "127.0.0.1 - - [20/Feb/2019 15:41:45] \"\u001b[37mPOST /_dash-update-component HTTP/1.1\u001b[0m\" 200 -\n",
      "127.0.0.1 - - [20/Feb/2019 15:41:46] \"\u001b[37mPOST /_dash-update-component HTTP/1.1\u001b[0m\" 200 -\n",
      "127.0.0.1 - - [20/Feb/2019 15:41:47] \"\u001b[37mPOST /_dash-update-component HTTP/1.1\u001b[0m\" 200 -\n",
      "127.0.0.1 - - [20/Feb/2019 15:41:48] \"\u001b[37mPOST /_dash-update-component HTTP/1.1\u001b[0m\" 200 -\n",
      "127.0.0.1 - - [20/Feb/2019 15:41:49] \"\u001b[37mPOST /_dash-update-component HTTP/1.1\u001b[0m\" 200 -\n",
      "Process Process-1:\n",
      "Traceback (most recent call last):\n",
      "  File \"/home/longa/anaconda3/envs/py3int/lib/python3.6/multiprocessing/process.py\", line 258, in _bootstrap\n",
      "    self.run()\n",
      "  File \"/home/longa/anaconda3/envs/py3int/lib/python3.6/multiprocessing/process.py\", line 93, in run\n",
      "    self._target(*self._args, **self._kwargs)\n",
      "  File \"<ipython-input-8-e7bb00eaf842>\", line 3, in cont_log_ping_data\n",
      "    time.sleep(2)\n",
      "KeyboardInterrupt\n"
     ]
    }
   ],
   "source": [
    "procs = []\n",
    "proc = Process(target=cont_log_ping_data)\n",
    "procs.append(proc)\n",
    "proc.start()\n",
    "proc = Process(target=start_dash)\n",
    "procs.append(proc)\n",
    "proc.start()"
   ]
  },
  {
   "cell_type": "code",
   "execution_count": 15,
   "metadata": {},
   "outputs": [
    {
     "data": {
      "image/png": "[encoded data removed]",
      "text/plain": [
       "<IPython.core.display.Image object>"
      ]
     },
     "execution_count": 15,
     "metadata": {},
     "output_type": "execute_result"
    }
   ],
   "source": [
    "from IPython.display import Image\n",
    "Image(\"dash_sc.png\")"
   ]
  }
 ],
 "metadata": {
  "kernelspec": {
   "display_name": "Python [conda env:py3int]",
   "language": "python",
   "name": "conda-env-py3int-py"
  },
  "language_info": {
   "codemirror_mode": {
    "name": "ipython",
    "version": 3
   },
   "file_extension": ".py",
   "mimetype": "text/x-python",
   "name": "python",
   "nbconvert_exporter": "python",
   "pygments_lexer": "ipython3",
   "version": "3.6.6"
  }
 },
 "nbformat": 4,
 "nbformat_minor": 2
}
